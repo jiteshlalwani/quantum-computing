{
 "cells": [
  {
   "cell_type": "markdown",
   "metadata": {},
   "source": [
    "# Quantum Teleportation Algorithm\n",
    "\n",
    "Quantum teleportation is a technique for transferring quantum information from a sender at one location to a receiver some distance away. An important note is that the sender knows neither the location of the recipient nor the quantum state that will be transferred. Also, Quantum teleportation only transfers quantum information and not the actual qubit.\n",
    "\n",
    "We would illustrate quantum teleportation by sending quantum information between Alice(Sender) and Bob(Receiver)"
   ]
  },
  {
   "cell_type": "code",
   "execution_count": 1,
   "metadata": {},
   "outputs": [],
   "source": [
    "from qiskit import QuantumCircuit, Aer, execute, QuantumRegister, ClassicalRegister\n",
    "from qiskit_textbook.tools import array_to_latex\n",
    "from qiskit.visualization import plot_histogram"
   ]
  },
  {
   "cell_type": "markdown",
   "metadata": {},
   "source": [
    "Create a quantum circuit with 3 qubits - q0, q1, q2.\n",
    "\n",
    "q0 = Quantum state of q0 would be transferred by Alice to Bob.\n",
    "\n",
    "q1, q2 = Two entangled qubits, One qubit(q0) be shared with Alice and another qubit(q1) would be shared with Bob."
   ]
  },
  {
   "cell_type": "code",
   "execution_count": 2,
   "metadata": {},
   "outputs": [],
   "source": [
    "qr = QuantumRegister(3, name=\"q\")\n",
    "c0 = ClassicalRegister(1, name=\"c0\")\n",
    "c1 = ClassicalRegister(1, name=\"c1\")\n",
    "c2 = ClassicalRegister(1, name=\"c2\")\n",
    "\n",
    "qc_tel = QuantumCircuit(qr, c0, c1, c2)"
   ]
  },
  {
   "cell_type": "markdown",
   "metadata": {},
   "source": [
    "Prepare q0 state"
   ]
  },
  {
   "cell_type": "code",
   "execution_count": 3,
   "metadata": {},
   "outputs": [
    {
     "data": {
      "text/plain": [
       "<qiskit.circuit.instructionset.InstructionSet at 0x19421de3160>"
      ]
     },
     "execution_count": 3,
     "metadata": {},
     "output_type": "execute_result"
    }
   ],
   "source": [
    "qc_tel.x(0)\n",
    "qc_tel.z(0)\n",
    "qc_tel.barrier()"
   ]
  },
  {
   "cell_type": "markdown",
   "metadata": {},
   "source": [
    "### Step 1: \n",
    "Entangle q1 and q2"
   ]
  },
  {
   "cell_type": "code",
   "execution_count": 4,
   "metadata": {},
   "outputs": [
    {
     "data": {
      "text/plain": [
       "<qiskit.circuit.instructionset.InstructionSet at 0x19498ef73d0>"
      ]
     },
     "execution_count": 4,
     "metadata": {},
     "output_type": "execute_result"
    }
   ],
   "source": [
    "qc_tel.h(1)\n",
    "qc_tel.cx(1, 2)\n",
    "qc_tel.barrier()"
   ]
  },
  {
   "cell_type": "markdown",
   "metadata": {},
   "source": [
    "### Step 2: \n",
    "Entangle q0 with q1"
   ]
  },
  {
   "cell_type": "code",
   "execution_count": 5,
   "metadata": {},
   "outputs": [
    {
     "data": {
      "text/plain": [
       "<qiskit.circuit.instructionset.InstructionSet at 0x19421dd9070>"
      ]
     },
     "execution_count": 5,
     "metadata": {},
     "output_type": "execute_result"
    }
   ],
   "source": [
    "qc_tel.cx(0, 1)\n",
    "qc_tel.h(0)\n",
    "qc_tel.barrier()"
   ]
  },
  {
   "cell_type": "markdown",
   "metadata": {},
   "source": [
    "### Step 3:\n",
    "Perform measurement on q0 and q1.\n",
    "The results would be transferred classically"
   ]
  },
  {
   "cell_type": "code",
   "execution_count": 6,
   "metadata": {},
   "outputs": [
    {
     "data": {
      "text/plain": [
       "<qiskit.circuit.instructionset.InstructionSet at 0x19498ef7820>"
      ]
     },
     "execution_count": 6,
     "metadata": {},
     "output_type": "execute_result"
    }
   ],
   "source": [
    "qc_tel.measure(qr[0], c0)\n",
    "qc_tel.measure(qr[1], c1)\n",
    "qc_tel.barrier()"
   ]
  },
  {
   "cell_type": "markdown",
   "metadata": {},
   "source": [
    "### Step 4:\n",
    "Bob, who already has the qubit q2 then applies the following gates depending on the state of the classical bits:\n",
    "\n",
    "00 → Do nothing\n",
    "\n",
    "01 → Apply X gate\n",
    "\n",
    "10 → Apply Z gate\n",
    "\n",
    "11 → Apply ZX gate\n",
    "\n",
    "(Note that this transfer of information is purely classical.)"
   ]
  },
  {
   "cell_type": "code",
   "execution_count": 7,
   "metadata": {},
   "outputs": [
    {
     "data": {
      "text/plain": [
       "<qiskit.circuit.instructionset.InstructionSet at 0x19498ef7a90>"
      ]
     },
     "execution_count": 7,
     "metadata": {},
     "output_type": "execute_result"
    }
   ],
   "source": [
    "qc_tel.x(2).c_if(c1, 1)\n",
    "qc_tel.z(2).c_if(c0, 1)\n",
    "qc_tel.barrier()"
   ]
  },
  {
   "cell_type": "markdown",
   "metadata": {},
   "source": [
    "#### Measure the result and draw the circuit"
   ]
  },
  {
   "cell_type": "code",
   "execution_count": 8,
   "metadata": {},
   "outputs": [
    {
     "data": {
      "image/png": "[encoded data removed]",
      "text/plain": [
       "<Figure size 1049.8x385.28 with 1 Axes>"
      ]
     },
     "execution_count": 8,
     "metadata": {},
     "output_type": "execute_result"
    }
   ],
   "source": [
    "qc_tel.measure(qr[2], c2)\n",
    "qc_tel.draw('mpl')"
   ]
  },
  {
   "cell_type": "code",
   "execution_count": 9,
   "metadata": {},
   "outputs": [
    {
     "data": {
      "image/png": "[encoded data removed]",
      "text/plain": [
       "<Figure size 504x360 with 1 Axes>"
      ]
     },
     "execution_count": 9,
     "metadata": {},
     "output_type": "execute_result"
    }
   ],
   "source": [
    "backend = Aer.get_backend('qasm_simulator')\n",
    "result = execute(qc_tel, backend).result()\n",
    "counts = result.get_counts()\n",
    "plot_histogram(counts)"
   ]
  }
 ],
 "metadata": {
  "kernelspec": {
   "display_name": "Python 3",
   "language": "python",
   "name": "python3"
  },
  "language_info": {
   "codemirror_mode": {
    "name": "ipython",
    "version": 3
   },
   "file_extension": ".py",
   "mimetype": "text/x-python",
   "name": "python",
   "nbconvert_exporter": "python",
   "pygments_lexer": "ipython3",
   "version": "3.8.5"
  }
 },
 "nbformat": 4,
 "nbformat_minor": 4
}
